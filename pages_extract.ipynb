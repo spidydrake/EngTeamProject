{
 "cells": [
  {
   "cell_type": "code",
   "execution_count": 74,
   "metadata": {},
   "outputs": [],
   "source": [
    "from PyPDF2 import PdfReader\n",
    "import re"
   ]
  },
  {
   "cell_type": "code",
   "execution_count": 105,
   "metadata": {},
   "outputs": [],
   "source": [
    "pdf_doc = r'manuals/Brabender/Brabender P7.pdf'\n",
    "# pdf_doc = r'files/Brabender_P1.pdf'"
   ]
  },
  {
   "cell_type": "code",
   "execution_count": 106,
   "metadata": {},
   "outputs": [
    {
     "name": "stdout",
     "output_type": "stream",
     "text": [
      "[['GENERAL INFORMATION', '11'], ['Use of the instruction manual', '11'], ['Disclaimer of liability', '11'], ['Software', '12'], ['Scope of supply', '12'], ['Acquisition of components from external suppliers', '12'], ['CONTACT', '13'], ['STYLISTIC FEATURES', '15'], ['General stylistic features', '15'], ['Mandatory signs', '15'], ['Hazard warning signs', '15'], ['Design of safety messages', '16'], ['Definitions', '16'], ['Intended use', '17'], ['Targetgroup', '17'], ['Carrier duties', '18'], ['Protective devices', '19'], ['Emergency motor stop button at the drive unit*', '19'], ['Position of the emergency motor stop button', '19'], ['Procedure after actuation of the emergency motor stop button', '20'], ['Emergency shut-off switch (isolator switch)', '21'], ['Position of the emergency shut-off switch (isolator switch}', '21'], ['Procedure after actuation of the emergency shut-off switch', '22'], ['Automatic instrument recognition and torque limitation', '25'], ['Bursting pin', '26'], ['Protective cover sheet over the hot processing unit', '27'], ['Protective cover over the screw shaft coupling', '28'], ['Feed hopper on the feed opening', '28'], ['Residual danger', '30'], ['Rotating screws* -Danger of crushing', '30'], ['Hot surfaces -Danger of burning', '31'], ['Danger by emerging harmful or irritant vapor, gas, or liquid', '32'], ['Danger by electricity', '33']]\n"
     ]
    }
   ],
   "source": [
    "def extract_text_from_pdf(pdf_path, content_pages):\n",
    "    with open(pdf_path, 'rb') as file:\n",
    "        reader = PdfReader(file)\n",
    "        num_pages = len(reader.pages)\n",
    "        text = \"\"\n",
    "        for page_num in range(num_pages):\n",
    "            content = reader.pages[page_num].extract_text()\n",
    "            # get content pages\n",
    "            sentence = ''\n",
    "            check = True\n",
    "            for letter in content:\n",
    "                if letter == '\\n':\n",
    "                    # x = re.match('[Cc]ontent', sentence)\n",
    "                    if 'Content' in sentence and check:\n",
    "                        content_pages.append(page_num)\n",
    "                        break\n",
    "                    else:\n",
    "                        check = False\n",
    "                        break\n",
    "                else:\n",
    "                    sentence += letter\n",
    "            text += content\n",
    "\n",
    "    return text\n",
    "\n",
    "# Example TOC extraction (assuming TOC is in a separate page)\n",
    "def extract_toc(pdf_path, toc_pages):\n",
    "    toc_text = \"\"\n",
    "    with open(pdf_path, 'rb') as file:\n",
    "        reader = PdfReader(file)\n",
    "        for page_num in toc_pages:\n",
    "            toc_text += reader.pages[page_num].extract_text()\n",
    "    return toc_text\n",
    "\n",
    "# Example TOC preprocessing\n",
    "def preprocess_toc(toc_text):\n",
    "    # Clean and preprocess TOC text\n",
    "    # Convert TOC text into structured format (e.g., list of tuples or dictionary)\n",
    "    # Example: [('Chapter 1', 5), ('Chapter 2', 10), ...]\n",
    "    # toc_entries = re.findall(r'([^\\n\\d]+)\\s+(\\d+)', toc_text)\n",
    "    toc_entries = []\n",
    "    sentence = ''\n",
    "    for line in toc_text:\n",
    "        if line == '\\n':\n",
    "            x = re.search(\"[A-Za-z\\s]+.+\", sentence)\n",
    "            if x:\n",
    "                sentence = x.group()\n",
    "                x = re.sub(r\"\\.\", \" \", sentence)\n",
    "                x = x.strip()\n",
    "                x = re.split(r\"\\s\\s+\", x)\n",
    "                if len(x) == 2:\n",
    "                    toc_entries.append(x)\n",
    "            sentence = ''\n",
    "        else:\n",
    "            sentence += line\n",
    "    return toc_entries\n",
    "\n",
    "# Example TOC structure analysis\n",
    "def analyze_toc_structure(toc_entries):\n",
    "    # Analyze the structure of TOC entries to understand hierarchy\n",
    "    # Determine patterns or conventions used in the TOC\n",
    "    pass\n",
    "\n",
    "# Example text segmentation based on TOC entries\n",
    "def segment_text_based_on_toc(text, toc_entries):\n",
    "    segmented_text = {}\n",
    "    for entry in toc_entries:\n",
    "        section_title, page_number = entry\n",
    "        start_page = int(page_number)\n",
    "        end_page = len(text)  # Assuming the last page\n",
    "        if toc_entries.index(entry) < len(toc_entries) - 1:\n",
    "            end_page = int(toc_entries[toc_entries.index(entry) + 1][1]) - 1\n",
    "        section_text = \"\"\n",
    "        for page_num in range(start_page - 1, end_page):\n",
    "            section_text += text[page_num]\n",
    "        segmented_text[section_title] = section_text\n",
    "    return segmented_text\n",
    "\n",
    "# Example usage\n",
    "# pdf_file = r'files/Brabender_P1.pdf'\n",
    "content_pages = []\n",
    "pdf_text = extract_text_from_pdf(pdf_doc, content_pages=content_pages)\n",
    "toc_text = extract_toc(pdf_doc, content_pages)\n",
    "toc_entries = preprocess_toc(toc_text)\n",
    "# segmented_text = segment_text_based_on_toc(pdf_text, toc_entries)\n",
    "\n",
    "print(toc_entries)\n"
   ]
  },
  {
   "cell_type": "code",
   "execution_count": 114,
   "metadata": {},
   "outputs": [
    {
     "name": "stdout",
     "output_type": "stream",
     "text": [
      "['GENERAL INFORMATION', 'Use of the instruction manual', 'Disclaimer of liability', 'Software', 'Scope of supply', 'Acquisition of components from external suppliers', 'CONTACT', 'STYLISTIC FEATURES', 'General stylistic features', 'Mandatory signs', 'Hazard warning signs', 'Design of safety messages', 'Definitions', 'Intended use', 'Targetgroup', 'Carrier duties', 'Protective devices', 'Emergency motor stop button at the drive unit*', 'Position of the emergency motor stop button', 'Procedure after actuation of the emergency motor stop button', 'Emergency shut-off switch (isolator switch)', 'Position of the emergency shut-off switch (isolator switch}', 'Procedure after actuation of the emergency shut-off switch', 'Automatic instrument recognition and torque limitation', 'Bursting pin', 'Protective cover sheet over the hot processing unit', 'Protective cover over the screw shaft coupling', 'Feed hopper on the feed opening', 'Residual danger', 'Rotating screws* -Danger of crushing', 'Hot surfaces -Danger of burning', 'Danger by emerging harmful or irritant vapor, gas, or liquid', 'Danger by electricity']\n"
     ]
    }
   ],
   "source": [
    "# Zero-shot analyses of table of content\n",
    "# print(dict(toc_entries))\n",
    "toc_dict = dict(toc_entries)\n",
    "toc_title = list(toc_dict.keys())\n",
    "print(toc_title)"
   ]
  },
  {
   "cell_type": "code",
   "execution_count": 115,
   "metadata": {},
   "outputs": [
    {
     "data": {
      "application/vnd.jupyter.widget-view+json": {
       "model_id": "707f16b44e4a4ca9be401691e8ae2796",
       "version_major": 2,
       "version_minor": 0
      },
      "text/plain": [
       "config.json:   0%|          | 0.00/1.15k [00:00<?, ?B/s]"
      ]
     },
     "metadata": {},
     "output_type": "display_data"
    },
    {
     "name": "stderr",
     "output_type": "stream",
     "text": [
      "c:\\Users\\spidy\\anaconda3\\envs\\dmml\\Lib\\site-packages\\huggingface_hub\\file_download.py:149: UserWarning: `huggingface_hub` cache-system uses symlinks by default to efficiently store duplicated files but your machine does not support them in C:\\Users\\spidy\\.cache\\huggingface\\hub\\models--facebook--bart-large-mnli. Caching files will still work but in a degraded version that might require more space on your disk. This warning can be disabled by setting the `HF_HUB_DISABLE_SYMLINKS_WARNING` environment variable. For more details, see https://huggingface.co/docs/huggingface_hub/how-to-cache#limitations.\n",
      "To support symlinks on Windows, you either need to activate Developer Mode or to run Python as an administrator. In order to see activate developer mode, see this article: https://docs.microsoft.com/en-us/windows/apps/get-started/enable-your-device-for-development\n",
      "  warnings.warn(message)\n"
     ]
    },
    {
     "data": {
      "application/vnd.jupyter.widget-view+json": {
       "model_id": "a7c17b8d9be541049cabcf3c72fd45b0",
       "version_major": 2,
       "version_minor": 0
      },
      "text/plain": [
       "model.safetensors:   0%|          | 0.00/1.63G [00:00<?, ?B/s]"
      ]
     },
     "metadata": {},
     "output_type": "display_data"
    },
    {
     "data": {
      "application/vnd.jupyter.widget-view+json": {
       "model_id": "f839fc037a534bdb93efca5455f92d68",
       "version_major": 2,
       "version_minor": 0
      },
      "text/plain": [
       "tokenizer_config.json:   0%|          | 0.00/26.0 [00:00<?, ?B/s]"
      ]
     },
     "metadata": {},
     "output_type": "display_data"
    },
    {
     "data": {
      "application/vnd.jupyter.widget-view+json": {
       "model_id": "0206a6c916ab473594951f19011e16bb",
       "version_major": 2,
       "version_minor": 0
      },
      "text/plain": [
       "vocab.json:   0%|          | 0.00/899k [00:00<?, ?B/s]"
      ]
     },
     "metadata": {},
     "output_type": "display_data"
    },
    {
     "data": {
      "application/vnd.jupyter.widget-view+json": {
       "model_id": "aa6135a0cdc5405381418725eb807166",
       "version_major": 2,
       "version_minor": 0
      },
      "text/plain": [
       "merges.txt:   0%|          | 0.00/456k [00:00<?, ?B/s]"
      ]
     },
     "metadata": {},
     "output_type": "display_data"
    },
    {
     "data": {
      "application/vnd.jupyter.widget-view+json": {
       "model_id": "ab8ed5b06b3042dfaf16f6bd53ae8988",
       "version_major": 2,
       "version_minor": 0
      },
      "text/plain": [
       "tokenizer.json:   0%|          | 0.00/1.36M [00:00<?, ?B/s]"
      ]
     },
     "metadata": {},
     "output_type": "display_data"
    },
    {
     "data": {
      "text/plain": [
       "{'sequence': 'what is the best way to fix the machine?',\n",
       " 'labels': ['Residual danger',\n",
       "  'Protective cover over the screw shaft coupling',\n",
       "  'Targetgroup',\n",
       "  'Feed hopper on the feed opening',\n",
       "  'Protective devices',\n",
       "  'Protective cover sheet over the hot processing unit',\n",
       "  'Scope of supply',\n",
       "  'Bursting pin',\n",
       "  'Rotating screws* -Danger of crushing',\n",
       "  'CONTACT',\n",
       "  'Automatic instrument recognition and torque limitation',\n",
       "  'Position of the emergency motor stop button',\n",
       "  'Design of safety messages',\n",
       "  'Emergency motor stop button at the drive unit*',\n",
       "  'Hazard warning signs',\n",
       "  'Use of the instruction manual',\n",
       "  'Position of the emergency shut-off switch (isolator switch}',\n",
       "  'Carrier duties',\n",
       "  'Intended use',\n",
       "  'Danger by electricity',\n",
       "  'Procedure after actuation of the emergency motor stop button',\n",
       "  'Danger by emerging harmful or irritant vapor, gas, or liquid',\n",
       "  'Procedure after actuation of the emergency shut-off switch',\n",
       "  'Acquisition of components from external suppliers',\n",
       "  'General stylistic features',\n",
       "  'GENERAL INFORMATION',\n",
       "  'Emergency shut-off switch (isolator switch)',\n",
       "  'Definitions',\n",
       "  'Disclaimer of liability',\n",
       "  'Hot surfaces -Danger of burning',\n",
       "  'STYLISTIC FEATURES',\n",
       "  'Mandatory signs',\n",
       "  'Software'],\n",
       " 'scores': [0.48241472244262695,\n",
       "  0.44928526878356934,\n",
       "  0.290565550327301,\n",
       "  0.2598576247692108,\n",
       "  0.23009268939495087,\n",
       "  0.21941040456295013,\n",
       "  0.1453712433576584,\n",
       "  0.1400543451309204,\n",
       "  0.12074463069438934,\n",
       "  0.11328284442424774,\n",
       "  0.09032585471868515,\n",
       "  0.08596072345972061,\n",
       "  0.08264792710542679,\n",
       "  0.06001654639840126,\n",
       "  0.05701868608593941,\n",
       "  0.053025729954242706,\n",
       "  0.0522460862994194,\n",
       "  0.04236309602856636,\n",
       "  0.03859735652804375,\n",
       "  0.02175808511674404,\n",
       "  0.019148826599121094,\n",
       "  0.019038982689380646,\n",
       "  0.017330670729279518,\n",
       "  0.015447038225829601,\n",
       "  0.014946306124329567,\n",
       "  0.013833889737725258,\n",
       "  0.010292990133166313,\n",
       "  0.008643019944429398,\n",
       "  0.007191472686827183,\n",
       "  0.004135717172175646,\n",
       "  0.003068292047828436,\n",
       "  0.0017966583836823702,\n",
       "  0.0010276611428707838]}"
      ]
     },
     "execution_count": 115,
     "metadata": {},
     "output_type": "execute_result"
    }
   ],
   "source": [
    "# Use a pipeline as a high-level helper\n",
    "from transformers import pipeline\n",
    "\n",
    "classifier = pipeline(\"zero-shot-classification\", model=\"facebook/bart-large-mnli\")\n"
   ]
  },
  {
   "cell_type": "code",
   "execution_count": 120,
   "metadata": {},
   "outputs": [
    {
     "data": {
      "text/plain": [
       "{'sequence': 'software requirements of the machine?',\n",
       " 'labels': ['Software',\n",
       "  'Protective cover over the screw shaft coupling',\n",
       "  'Targetgroup',\n",
       "  'Automatic instrument recognition and torque limitation',\n",
       "  'Protective cover sheet over the hot processing unit',\n",
       "  'CONTACT',\n",
       "  'Feed hopper on the feed opening',\n",
       "  'Intended use',\n",
       "  'Position of the emergency motor stop button',\n",
       "  'Rotating screws* -Danger of crushing',\n",
       "  'Protective devices',\n",
       "  'Hazard warning signs',\n",
       "  'Hot surfaces -Danger of burning',\n",
       "  'Procedure after actuation of the emergency motor stop button',\n",
       "  'Emergency motor stop button at the drive unit*',\n",
       "  'Bursting pin',\n",
       "  'Scope of supply',\n",
       "  'Design of safety messages',\n",
       "  'Danger by emerging harmful or irritant vapor, gas, or liquid',\n",
       "  'Procedure after actuation of the emergency shut-off switch',\n",
       "  'General stylistic features',\n",
       "  'Carrier duties',\n",
       "  'Residual danger',\n",
       "  'Position of the emergency shut-off switch (isolator switch}',\n",
       "  'Definitions',\n",
       "  'GENERAL INFORMATION',\n",
       "  'Emergency shut-off switch (isolator switch)',\n",
       "  'Acquisition of components from external suppliers',\n",
       "  'Mandatory signs',\n",
       "  'Danger by electricity',\n",
       "  'STYLISTIC FEATURES',\n",
       "  'Disclaimer of liability',\n",
       "  'Use of the instruction manual'],\n",
       " 'scores': [0.7409334182739258,\n",
       "  0.3396003544330597,\n",
       "  0.28061816096305847,\n",
       "  0.22187426686286926,\n",
       "  0.14986273646354675,\n",
       "  0.1447296440601349,\n",
       "  0.12062889337539673,\n",
       "  0.09015511721372604,\n",
       "  0.08067462593317032,\n",
       "  0.06340330094099045,\n",
       "  0.03893996402621269,\n",
       "  0.02685096673667431,\n",
       "  0.026045791804790497,\n",
       "  0.02560238167643547,\n",
       "  0.02413311041891575,\n",
       "  0.019430017098784447,\n",
       "  0.018811844289302826,\n",
       "  0.016124974936246872,\n",
       "  0.011390713974833488,\n",
       "  0.010839960537850857,\n",
       "  0.010344068519771099,\n",
       "  0.008405804634094238,\n",
       "  0.008314118720591068,\n",
       "  0.007546439301222563,\n",
       "  0.006631041876971722,\n",
       "  0.006506854668259621,\n",
       "  0.005039611365646124,\n",
       "  0.004872807301580906,\n",
       "  0.004565368872135878,\n",
       "  0.003416771534830332,\n",
       "  0.0029936661012470722,\n",
       "  0.0027397878002375364,\n",
       "  0.0018195369048044086]}"
      ]
     },
     "execution_count": 120,
     "metadata": {},
     "output_type": "execute_result"
    }
   ],
   "source": [
    "\n",
    "sequence_to_classify = \"software requirements of the machine?\"\n",
    "candidate_labels = toc_title\n",
    "classifier(sequence_to_classify, candidate_labels, multi_label=True)"
   ]
  }
 ],
 "metadata": {
  "kernelspec": {
   "display_name": "dmml",
   "language": "python",
   "name": "python3"
  },
  "language_info": {
   "codemirror_mode": {
    "name": "ipython",
    "version": 3
   },
   "file_extension": ".py",
   "mimetype": "text/x-python",
   "name": "python",
   "nbconvert_exporter": "python",
   "pygments_lexer": "ipython3",
   "version": "3.11.7"
  }
 },
 "nbformat": 4,
 "nbformat_minor": 2
}
