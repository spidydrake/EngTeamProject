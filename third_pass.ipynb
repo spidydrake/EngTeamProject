{
 "cells": [
  {
   "cell_type": "markdown",
   "metadata": {},
   "source": [
    "# INPUT LAYER"
   ]
  },
  {
   "cell_type": "code",
   "execution_count": 14,
   "metadata": {},
   "outputs": [],
   "source": [
    "import pytesseract\n",
    "from pdf2image import convert_from_path\n",
    "import PyPDF2\n",
    "import io"
   ]
  },
  {
   "cell_type": "code",
   "execution_count": 15,
   "metadata": {},
   "outputs": [],
   "source": [
    "poppler_path=r\"C:/Users/spidy/Downloads/Release-24.02.0-0/poppler-24.02.0/Library/bin\""
   ]
  },
  {
   "cell_type": "code",
   "execution_count": 16,
   "metadata": {},
   "outputs": [],
   "source": [
    "# add tesseract to path\n",
    "# pytesseract.pytesseract.tesseract_cmd = r\"C:/Program Files/Tesseract-OCR/tesseract.exe\""
   ]
  },
  {
   "cell_type": "code",
   "execution_count": 17,
   "metadata": {},
   "outputs": [],
   "source": [
    "pdf_doc = r'files/Brabender_P1.pdf'\n",
    "# pdf_doc = r'files/apollo.pdf'\n",
    "# image_file = r'files/table.png'"
   ]
  },
  {
   "cell_type": "code",
   "execution_count": 18,
   "metadata": {},
   "outputs": [],
   "source": [
    "images = convert_from_path(pdf_doc, poppler_path=poppler_path)"
   ]
  },
  {
   "cell_type": "markdown",
   "metadata": {},
   "source": [
    "# PARSING LAYER"
   ]
  },
  {
   "cell_type": "code",
   "execution_count": 19,
   "metadata": {},
   "outputs": [],
   "source": [
    "pdf_writer = PyPDF2.PdfWriter()\n",
    "for image in images:\n",
    "    page = pytesseract.image_to_pdf_or_hocr(image, extension='pdf')\n",
    "    pdf = PyPDF2.PdfReader(io.BytesIO(page))\n",
    "    pdf_writer.add_page(pdf.pages[0])\n",
    "\n",
    "# export the searchable PDF to searchable.pdf\n",
    "out_file = f'{pdf_doc[:-4]}_searchable.pdf'\n",
    "with open(out_file, \"wb\") as f:\n",
    "    pdf_writer.write(f)"
   ]
  }
 ],
 "metadata": {
  "kernelspec": {
   "display_name": "dmml",
   "language": "python",
   "name": "python3"
  },
  "language_info": {
   "codemirror_mode": {
    "name": "ipython",
    "version": 3
   },
   "file_extension": ".py",
   "mimetype": "text/x-python",
   "name": "python",
   "nbconvert_exporter": "python",
   "pygments_lexer": "ipython3",
   "version": "3.11.7"
  }
 },
 "nbformat": 4,
 "nbformat_minor": 2
}
