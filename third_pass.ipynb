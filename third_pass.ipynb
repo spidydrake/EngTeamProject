{
 "cells": [
  {
   "cell_type": "markdown",
   "metadata": {},
   "source": [
    "# REQUIRED PACKAGE INSTALL"
   ]
  },
  {
   "cell_type": "code",
   "execution_count": 10,
   "metadata": {},
   "outputs": [],
   "source": [
    "# pip install function\n",
    "import subprocess\n",
    "import sys\n",
    "\n",
    "def install(package):\n",
    "    try:\n",
    "        subprocess.check_call([sys.executable, \"-m\", \"pip\", \"install\", package])\n",
    "    except:\n",
    "        print(\"No such package\")"
   ]
  },
  {
   "cell_type": "code",
   "execution_count": 11,
   "metadata": {},
   "outputs": [],
   "source": [
    "# pip install packages\n",
    "install('pytesseract')\n",
    "install('pdf2image')\n",
    "install('PyPDF2')\n",
    "install('PyMuPDF')"
   ]
  },
  {
   "cell_type": "code",
   "execution_count": 1,
   "metadata": {},
   "outputs": [],
   "source": [
    "import pytesseract\n",
    "from pdf2image import convert_from_path\n",
    "import PyPDF2\n",
    "import io\n",
    "import fitz # imports the pymupdf library"
   ]
  },
  {
   "cell_type": "code",
   "execution_count": 13,
   "metadata": {},
   "outputs": [],
   "source": [
    "# uncomment the code below if you don't have tesseract added to path\n",
    "# pytesseract.pytesseract.tesseract_cmd = r\"Tesseract-OCR/tesseract.exe\""
   ]
  },
  {
   "cell_type": "markdown",
   "metadata": {},
   "source": [
    "# INPUT LAYER"
   ]
  },
  {
   "cell_type": "code",
   "execution_count": 19,
   "metadata": {},
   "outputs": [],
   "source": [
    "# pdf_doc = r'files/woodBoy.pdf'\n",
    "pdf_doc = r'files/Brabender_P1.pdf'"
   ]
  },
  {
   "cell_type": "markdown",
   "metadata": {},
   "source": [
    "# PARSING LAYER"
   ]
  },
  {
   "cell_type": "code",
   "execution_count": 5,
   "metadata": {},
   "outputs": [],
   "source": [
    "# imagePDF_to_text function\n",
    "def imagePDF_to_text(file):\n",
    "    # poppler path\n",
    "    poppler_path=r\"Release-24.02.0-0/poppler-24.02.0/Library/bin\"\n",
    "    # convert to image\n",
    "    images = convert_from_path(file, poppler_path=poppler_path)\n",
    "    \n",
    "    pdf_writer = PyPDF2.PdfWriter()\n",
    "    page_text = ''\n",
    "    for image in images:\n",
    "        page = pytesseract.image_to_pdf_or_hocr(image, extension='pdf')\n",
    "        pdf = PyPDF2.PdfReader(io.BytesIO(page))\n",
    "\n",
    "        page_text += (pdf.pages[0]).extract_text()\n",
    "        pdf_writer.add_page(pdf.pages[0])\n",
    "    \n",
    "    return page_text"
   ]
  },
  {
   "cell_type": "code",
   "execution_count": 6,
   "metadata": {},
   "outputs": [],
   "source": [
    "# PDF_to_text function\n",
    "def PDF_to_text(file):\n",
    "  try:\n",
    "    # works only for text-based pdf\n",
    "    doc = fitz.open(file) # open a document\n",
    "    for page in doc: # iterate the document pages\n",
    "      text = page.get_text() # get plain text encoded as UTF-8\n",
    "      if not text.strip():\n",
    "        raise Exception('PDF is a scanned document')\n",
    "    print('Done!')\n",
    "    return text\n",
    "  except Exception as e:\n",
    "    print(f\"Error while processing PDF: {e}\")\n",
    "    print('Running OCR engine...')\n",
    "    text = imagePDF_to_text(file)\n",
    "    print('Done!\\n')\n",
    "    return text"
   ]
  },
  {
   "cell_type": "code",
   "execution_count": 20,
   "metadata": {},
   "outputs": [
    {
     "name": "stdout",
     "output_type": "stream",
     "text": [
      "Error while processing PDF: PDF is a scanned document\n",
      "Running OCR engine...\n",
      "Done!\n",
      "\n"
     ]
    }
   ],
   "source": [
    "text = PDF_to_text(pdf_doc)\n",
    "# print(text)"
   ]
  },
  {
   "cell_type": "code",
   "execution_count": 18,
   "metadata": {},
   "outputs": [],
   "source": [
    "# export the searchable PDF to searchable.pdf\n",
    "# out_file = f'{pdf_doc[:-4]}_searchable.pdf'\n",
    "# with open(out_file, \"wb\") as f:\n",
    "#     pdf_writer.write(f)"
   ]
  },
  {
   "cell_type": "code",
   "execution_count": 28,
   "metadata": {},
   "outputs": [
    {
     "name": "stderr",
     "output_type": "stream",
     "text": [
      "You are using the default legacy behaviour of the <class 'transformers.models.t5.tokenization_t5.T5Tokenizer'>. This is expected, and simply means that the `legacy` (previous) behavior will be used so nothing changes for you. If you want to use the new behaviour, set `legacy=False`. This should only be set if you understand what it means, and thoroughly read the reason why this was added as explained in https://github.com/huggingface/transformers/pull/24565\n",
      "Special tokens have been added in the vocabulary, make sure the associated word embeddings are fine-tuned or trained.\n"
     ]
    }
   ],
   "source": [
    "from transformers import T5ForConditionalGeneration, T5Tokenizer\n",
    "\n",
    "# Load T5 model and tokenizer\n",
    "model = T5ForConditionalGeneration.from_pretrained(\"t5-base\")\n",
    "tokenizer = T5Tokenizer.from_pretrained(\"t5-base\")\n"
   ]
  },
  {
   "cell_type": "code",
   "execution_count": 21,
   "metadata": {},
   "outputs": [],
   "source": [
    "# Use a facebook pipeline as a high-level helper\n",
    "from transformers import pipeline\n",
    "\n",
    "summarizer = pipeline(\"summarization\", model=\"facebook/bart-large-cnn\")"
   ]
  },
  {
   "cell_type": "code",
   "execution_count": 22,
   "metadata": {},
   "outputs": [
    {
     "data": {
      "text/plain": [
       "117935"
      ]
     },
     "execution_count": 22,
     "metadata": {},
     "output_type": "execute_result"
    }
   ],
   "source": [
    "len(text)"
   ]
  },
  {
   "cell_type": "code",
   "execution_count": 23,
   "metadata": {},
   "outputs": [],
   "source": [
    "# from functools import reduce\n",
    "# text = text.replace(\"\\n\", \" \")\n",
    "# words = text.split(\" \")\n",
    "# first_256_w = words[:256]\n",
    "# new_sentences = reduce(lambda x, y: x + \" \" + y, first_256_w)"
   ]
  },
  {
   "cell_type": "code",
   "execution_count": 25,
   "metadata": {},
   "outputs": [
    {
     "data": {
      "text/plain": [
       "256"
      ]
     },
     "execution_count": 25,
     "metadata": {},
     "output_type": "execute_result"
    }
   ],
   "source": [
    "len(first_256_w)\n",
    "new_sentences = new_sentences.replace(\"\\n\", \" \")"
   ]
  },
  {
   "cell_type": "code",
   "execution_count": 15,
   "metadata": {},
   "outputs": [],
   "source": [
    "# # Initialize variables\n",
    "# max_length = 512  # Maximum sequence length supported by the model\n",
    "# segments = []\n",
    "# current_segment = []\n",
    "\n",
    "# # Split the input into segments\n",
    "# for word in words:\n",
    "#     current_segment.append(word)\n",
    "#     if len(current_segment) == max_length:\n",
    "#         segments.append(current_segment)\n",
    "#         current_segment = []\n",
    "# # Add the last segment if it's not empty\n",
    "# if current_segment:\n",
    "#     segments.append(current_segment)\n",
    "\n",
    "\n",
    "# # Process each segment separately\n",
    "# for segment in segments:\n",
    "#     # Convert segment tokens back to text\n",
    "#     # segment_text = tokenizer.convert_tokens_to_string(segment)\n",
    "#     # Encode segment\n",
    "#     # inputs = tokenizer(segment_text, return_tensors='pt')\n",
    "#     # Forward pass through the model\n",
    "#     print(text+'\\n')\n",
    "#     outputs = summarizer(text, max_length=100, min_length=50, do_sample=False)\n",
    "#     # outputs = model(**inputs)\n",
    "#     print(outputs)\n",
    "#     # Process model outputs as needed\n"
   ]
  },
  {
   "cell_type": "code",
   "execution_count": null,
   "metadata": {},
   "outputs": [],
   "source": [
    "# Split the input document into smaller segments\n",
    "segments = text.split(\"\\n\\n\")  # Split by paragraphs, adjust as needed\n",
    "\n",
    "# Generate summaries for each segment\n",
    "summaries = []\n",
    "max_segment_length = 1024  # Max segment length for T5 model\n",
    "for segment in segments:\n",
    "    # Tokenize segment\n",
    "    segment_tokens = tokenizer.encode(segment, return_tensors=\"pt\", max_length=max_segment_length, truncation=True)\n",
    "    # Generate summary for the segment\n",
    "    summary_ids = model.generate(segment_tokens, max_length=150, min_length=40, length_penalty=2.0, num_beams=4, early_stopping=True)\n",
    "    summary = tokenizer.decode(summary_ids[0], skip_special_tokens=True)\n",
    "    summaries.append(summary)\n",
    "\n",
    "# Combine summaries to form the final summary\n",
    "final_summary = \"\\n\".join(summaries)\n",
    "print(final_summary)\n"
   ]
  }
 ],
 "metadata": {
  "kernelspec": {
   "display_name": "dmml",
   "language": "python",
   "name": "python3"
  },
  "language_info": {
   "codemirror_mode": {
    "name": "ipython",
    "version": 3
   },
   "file_extension": ".py",
   "mimetype": "text/x-python",
   "name": "python",
   "nbconvert_exporter": "python",
   "pygments_lexer": "ipython3",
   "version": "3.11.7"
  }
 },
 "nbformat": 4,
 "nbformat_minor": 2
}
